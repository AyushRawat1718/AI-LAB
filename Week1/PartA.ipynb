{
 "cells": [
  {
   "cell_type": "markdown",
   "metadata": {},
   "source": [
    "## Lab Assignment - 1, Part A\n",
    "### Ayush Rawat\n",
    "### E22CSEU0655"
   ]
  },
  {
   "cell_type": "code",
   "execution_count": 1,
   "metadata": {},
   "outputs": [],
   "source": [
    "import numpy as np"
   ]
  },
  {
   "cell_type": "code",
   "execution_count": 2,
   "metadata": {},
   "outputs": [
    {
     "name": "stdout",
     "output_type": "stream",
     "text": [
      "2.0.1\n",
      "[1. 2. 3. 4.]\n",
      "[[1. 2. 3.]\n",
      " [4. 5. 6.]\n",
      " [7. 8. 9.]]\n"
     ]
    }
   ],
   "source": [
    "# 1a : Check the version of NumPy and create 1D, 2D arrays.\n",
    "print(np.__version__)\n",
    "\n",
    "arr1a1 = np.array([1,2.0,3,4])\n",
    "arr1a2 = np.array([[1,2,3],[4.0,5,6],[7,8,9]])\n",
    "\n",
    "print(arr1a1)\n",
    "print(arr1a2)"
   ]
  },
  {
   "cell_type": "code",
   "execution_count": 3,
   "metadata": {},
   "outputs": [
    {
     "name": "stdout",
     "output_type": "stream",
     "text": [
      "Data type of arr_1: float64\n",
      "Data type of arr_2: float64\n",
      "Dimension of arr1: 1\n",
      "Dimension of arr2: 2\n"
     ]
    }
   ],
   "source": [
    "# 1b : Check the data type and dimension of created arrays.\n",
    "print(\"Data type of arr_1:\",arr1a1.dtype)\n",
    "print(\"Data type of arr_2:\",arr1a2.dtype)\n",
    "\n",
    "print(\"Dimension of arr1:\",arr1a1.ndim)\n",
    "print(\"Dimension of arr2:\",arr1a2.ndim)"
   ]
  },
  {
   "cell_type": "code",
   "execution_count": 4,
   "metadata": {},
   "outputs": [
    {
     "name": "stdout",
     "output_type": "stream",
     "text": [
      "Size of element in arr1: 8\n",
      "Size of element in arr2: 8\n"
     ]
    }
   ],
   "source": [
    "# 1c : Find the size of each element in the arrays.\n",
    "# itemsize -> Returns the answer in bytes, for example if element is of int64 i.e 64 bits then the answer would be 64/8 = 8 bytes\n",
    "\n",
    "print(\"Size of element in arr1:\",arr1a1.itemsize)\n",
    "print(\"Size of element in arr2:\",arr1a2.itemsize)"
   ]
  },
  {
   "cell_type": "code",
   "execution_count": 5,
   "metadata": {},
   "outputs": [
    {
     "name": "stdout",
     "output_type": "stream",
     "text": [
      "Rows: 3\n",
      "Columns: 3\n"
     ]
    }
   ],
   "source": [
    "# 1d : Find the number of rows and columns of 2D array.\n",
    "(rows, cols) = arr1a2.shape\n",
    "print(\"Rows:\",rows)\n",
    "print(\"Columns:\",cols)"
   ]
  },
  {
   "cell_type": "code",
   "execution_count": 6,
   "metadata": {},
   "outputs": [
    {
     "name": "stdout",
     "output_type": "stream",
     "text": [
      "[[1 2]\n",
      " [3 4]\n",
      " [5 6]]\n"
     ]
    }
   ],
   "source": [
    "# 1e : An array of shape (2, 3) given, reshape the array into (3, 2).\n",
    "arr1e = np.array([[1,2,3],[4,5,6]])\n",
    "new_arr = arr1e.reshape(3,2)\n",
    "print(new_arr)"
   ]
  },
  {
   "cell_type": "code",
   "execution_count": 7,
   "metadata": {},
   "outputs": [
    {
     "name": "stdout",
     "output_type": "stream",
     "text": [
      "[6 3 9]\n"
     ]
    }
   ],
   "source": [
    "# 2a : A 1D array is given as [4, 5, 6, 3, 9, 7]. Slice the array to get [6, 3, 9].\n",
    "arr2a = np.array([4,5,6,3,9,7])\n",
    "print(arr2a[2:5])"
   ]
  },
  {
   "cell_type": "code",
   "execution_count": 8,
   "metadata": {},
   "outputs": [
    {
     "name": "stdout",
     "output_type": "stream",
     "text": [
      "[1 2]\n"
     ]
    }
   ],
   "source": [
    "# 2b : A 2D array is given as [[1, 2, 3] [4, 5, 6]]. Slice the array to get [ [1, 2]].\n",
    "arr2b = np.array([[1,2,3],[4,5,6]])\n",
    "# print(arr2b[:1,:2])\n",
    "print(arr2b[0][0:2])"
   ]
  },
  {
   "cell_type": "code",
   "execution_count": 9,
   "metadata": {},
   "outputs": [
    {
     "name": "stdout",
     "output_type": "stream",
     "text": [
      "[4 5 6 7 3 4 1]\n"
     ]
    }
   ],
   "source": [
    "# 3a : Concatenate two 1D arrays [4,5,6,7] and [3,4,1].\n",
    "arr3a1 = np.array([4,5,6,7])\n",
    "arr3a2 = np.array([3,4,1])\n",
    "\n",
    "arr3a_new = np.concatenate((arr3a1, arr3a2))\n",
    "print(arr3a_new)"
   ]
  },
  {
   "cell_type": "code",
   "execution_count": 10,
   "metadata": {},
   "outputs": [
    {
     "name": "stdout",
     "output_type": "stream",
     "text": [
      "[[ 0  1  2 10 11 12]\n",
      " [ 3  4  5 13 14 15]\n",
      " [ 6  7  8 16 17 18]]\n"
     ]
    }
   ],
   "source": [
    "# 3b : Perform concatenation of two 2D arrays in row-by-row manner.\n",
    "arr3b1 = np.arange(9).reshape(3,3)\n",
    "arr3b2 = np.arange(10,19).reshape(3,3)\n",
    "\n",
    "arr3b_new = np.concatenate((arr3b1, arr3b2), axis = 1)\n",
    "print(arr3b_new)"
   ]
  },
  {
   "cell_type": "code",
   "execution_count": 11,
   "metadata": {},
   "outputs": [
    {
     "name": "stdout",
     "output_type": "stream",
     "text": [
      "[array([4, 5]), array([6, 3]), array([9])]\n",
      "[4 5]\n",
      "[6 3]\n",
      "[9]\n"
     ]
    }
   ],
   "source": [
    "# 3c : Split the array [4, 5, 6, 3, 9,] into 3 sub-arrays.\n",
    "arr3c = np.array([4,5,6,3,9])\n",
    "arr3c_split = np.array_split(arr3c,3)\n",
    "print(arr3c_split)\n",
    "\n",
    "print(arr3c_split[0])\n",
    "print(arr3c_split[1])\n",
    "print(arr3c_split[2])"
   ]
  },
  {
   "cell_type": "code",
   "execution_count": 12,
   "metadata": {},
   "outputs": [
    {
     "name": "stdout",
     "output_type": "stream",
     "text": [
      "[array([[1, 2, 3],\n",
      "       [4, 5, 6]]), array([[7, 8, 9]]), array([[10, 11, 12]])]\n",
      "[[1 2 3]\n",
      " [4 5 6]]\n",
      "[[7 8 9]]\n",
      "[[10 11 12]]\n"
     ]
    }
   ],
   "source": [
    "# 3d : Split the array the 2D array [[ 1, 2, 3] [ 4, 5, 6],[ 7, 8, 9],[10, 11, 12]] into 3 sub-arrays.\n",
    "arr3d = np.array([[1, 2, 3],[4, 5, 6],[7, 8, 9],[10, 11, 12]])\n",
    "arr3d_split = np.array_split(arr3d, 3,axis = 0)\n",
    "print(arr3d_split)\n",
    "\n",
    "print(arr3d_split[0])\n",
    "print(arr3d_split[1])\n",
    "print(arr3d_split[2])"
   ]
  },
  {
   "cell_type": "code",
   "execution_count": 13,
   "metadata": {},
   "outputs": [
    {
     "name": "stdout",
     "output_type": "stream",
     "text": [
      "(array([3, 5, 6]),)\n"
     ]
    }
   ],
   "source": [
    "# 4a : Given an array [1, 2, 3, 4, 5, 4, 4]. Find the index of element 4. \n",
    "arr4a = np.array([1,2,3,4,5,4,4])\n",
    "arr4a_res = np.where(arr4a == 4)\n",
    "print(arr4a_res)"
   ]
  },
  {
   "cell_type": "code",
   "execution_count": 14,
   "metadata": {},
   "outputs": [
    {
     "name": "stdout",
     "output_type": "stream",
     "text": [
      "(array([1, 3]), array([1, 0]))\n"
     ]
    }
   ],
   "source": [
    "# 4b : Given a 2d array [[ 1, 2, 3],[ 4, 5, 6],[ 7, 8, 9],[10, 11, 12]]. Find the index of element 5.\n",
    "arr4b = np.array([[ 1, 2, 3],[ 4, 5, 6],[ 7, 8, 9],[5, 11, 12]])\n",
    "arr4b_res = np.where(arr4b == 5)\n",
    "print(arr4b_res)"
   ]
  },
  {
   "cell_type": "code",
   "execution_count": 15,
   "metadata": {},
   "outputs": [
    {
     "name": "stdout",
     "output_type": "stream",
     "text": [
      "(array([1, 3, 5, 7]),)\n",
      "(array([0, 2, 4, 6]),)\n"
     ]
    }
   ],
   "source": [
    "# 4c : Given an array [1, 2, 3, 4, 5, 6, 7, 8], find out the indices of odd elements and even elements.\n",
    "arr4c = np.array([1, 2, 3, 4, 5, 6, 7, 8])\n",
    "\n",
    "arr4c_even = np.where(arr4c % 2 == 0)\n",
    "arr4c_odd = np.where(arr4c % 2 != 0)\n",
    "\n",
    "print(arr4c_even)\n",
    "print(arr4c_odd)"
   ]
  },
  {
   "cell_type": "code",
   "execution_count": 16,
   "metadata": {},
   "outputs": [
    {
     "name": "stdout",
     "output_type": "stream",
     "text": [
      "[ 1  2  5  6  7  9 10 36]\n",
      "[36 10  9  7  6  5  2  1]\n"
     ]
    }
   ],
   "source": [
    "# 5a :  Sort the elements of given 1D array [6, 5, 1, 2, 9, 10, 36, 7] in ascending and descending order\n",
    "arr5a = np.array([6, 5, 1, 2, 9, 10, 36, 7])\n",
    "print(np.sort(arr5a))\n",
    "\n",
    "print(np.sort(arr5a)[::-1])\n"
   ]
  },
  {
   "cell_type": "code",
   "execution_count": 17,
   "metadata": {},
   "outputs": [
    {
     "name": "stdout",
     "output_type": "stream",
     "text": [
      "Ascending order (rows):\n",
      " [[ 5 -2  6]\n",
      " [ 8  3  7]\n",
      " [40 10  7]]\n",
      "Descending order (rows):\n",
      " [[40 10  7]\n",
      " [ 8  3  7]\n",
      " [ 5 -2  6]]\n",
      "Ascending order (columns):\n",
      " [[ 3  5  7]\n",
      " [ 6  8 10]\n",
      " [-2  7 40]]\n",
      "Descending order (columns):\n",
      " [[-2  7 40]\n",
      " [ 6  8 10]\n",
      " [ 3  5  7]]\n"
     ]
    }
   ],
   "source": [
    "# 5b : Sort the elements of given 2D array [[5, 3, 7], [8, 10, 6], [40, -2, 7]] in ascending and descending order.\n",
    "arr5b = np.array([[5, 3, 7], [8, 10, 6], [40, -2, 7]])\n",
    "\n",
    "arr5b_asc_r = np.sort(arr5b, axis=0)\n",
    "print(\"Ascending order (rows):\\n\", arr5b_asc_r)\n",
    "\n",
    "arr5b_desc_r = np.sort(arr5b, axis=0)[::-1]\n",
    "print(\"Descending order (rows):\\n\", arr5b_desc_r)\n",
    "\n",
    "arr5b_asc_c = np.sort(arr5b, axis=1)\n",
    "print(\"Ascending order (columns):\\n\", arr5b_asc_c)\n",
    "\n",
    "arr5b_desc_c = np.sort(arr5b, axis=1)[::-1]\n",
    "print(\"Descending order (columns):\\n\", arr5b_desc_c)"
   ]
  },
  {
   "cell_type": "code",
   "execution_count": 18,
   "metadata": {},
   "outputs": [
    {
     "name": "stdout",
     "output_type": "stream",
     "text": [
      "[14  2 15 17  3 10]\n"
     ]
    }
   ],
   "source": [
    "# 6a : Generate a 1-D array containing 6 random integers from 0 to 20.\n",
    "arr6a = np.random.randint(-1,21,(6,))\n",
    "print(arr6a)"
   ]
  },
  {
   "cell_type": "code",
   "execution_count": 19,
   "metadata": {},
   "outputs": [
    {
     "name": "stdout",
     "output_type": "stream",
     "text": [
      "[10.63614663  8.97895263  9.17026648  8.98685306  6.96849718]\n"
     ]
    }
   ],
   "source": [
    "# 6b : Generate a 1-D array containing 5 random floats.\n",
    "arr6b = np.random.rand(5)\n",
    "arr6b_res = np.add((np.multiply(arr6b, 10)), 1)\n",
    "print(arr6b_res)"
   ]
  },
  {
   "cell_type": "code",
   "execution_count": 20,
   "metadata": {},
   "outputs": [
    {
     "name": "stdout",
     "output_type": "stream",
     "text": [
      "[[49 49 48 50 30]\n",
      " [35 42 32 33 14]\n",
      " [36  8  6 40 38]]\n"
     ]
    }
   ],
   "source": [
    "# 6c : Generate a 2-D array with 3 rows, each row containing 5 random integers from 0 to 50.\n",
    "arr6c = np.random.randint(0, 51,(3, 5))\n",
    "print(arr6c)"
   ]
  },
  {
   "cell_type": "code",
   "execution_count": 21,
   "metadata": {},
   "outputs": [
    {
     "name": "stdout",
     "output_type": "stream",
     "text": [
      "[[0.20604221 0.92111533 0.19160951 0.07695851 0.2555991 ]\n",
      " [0.17451056 0.18563385 0.18859474 0.75291844 0.6771292 ]\n",
      " [0.49315712 0.6333415  0.1688121  0.82579265 0.64476796]]\n"
     ]
    }
   ],
   "source": [
    "# 6d : Generate a 2-D array with 3 rows, each row containing 5 random numbers.\n",
    "arr6d = np.random.random((3, 5))\n",
    "print(arr6d)"
   ]
  },
  {
   "cell_type": "code",
   "execution_count": 22,
   "metadata": {},
   "outputs": [
    {
     "name": "stdout",
     "output_type": "stream",
     "text": [
      "[ 6  1  7  2 36  9 10  5]\n"
     ]
    }
   ],
   "source": [
    "# 6e : Given a 1-D array [6, 5, 1, 2, 9, 10, 36, 7]. Shuffle the elements of the array randomly.\n",
    "arr6d = np.array([6, 5, 1, 2, 9, 10, 36, 7])\n",
    "np.random.shuffle(arr6d)\n",
    "print(arr6d)"
   ]
  },
  {
   "cell_type": "code",
   "execution_count": 23,
   "metadata": {},
   "outputs": [
    {
     "name": "stdout",
     "output_type": "stream",
     "text": [
      "[[10 11 12]\n",
      " [ 7  8  9]\n",
      " [ 4  5  6]\n",
      " [ 1  2  3]]\n"
     ]
    }
   ],
   "source": [
    "# 6f : Given a 2-D array [[ 1, 2, 3] [ 4, 5, 6][ 7, 8, 9] [10, 11, 12]]. Shuffle the elements of the array randomly.\n",
    "arr6f = np.array([[1, 2, 3], [4, 5, 6], [7, 8, 9], [10, 11, 12]])\n",
    "np.random.shuffle(arr6f)\n",
    "print(arr6f)\n",
    "\n",
    "# In this only rows are shuffling with each other, the elements of each row are in same order"
   ]
  }
 ],
 "metadata": {
  "kernelspec": {
   "display_name": "Python 3",
   "language": "python",
   "name": "python3"
  },
  "language_info": {
   "codemirror_mode": {
    "name": "ipython",
    "version": 3
   },
   "file_extension": ".py",
   "mimetype": "text/x-python",
   "name": "python",
   "nbconvert_exporter": "python",
   "pygments_lexer": "ipython3",
   "version": "3.12.0"
  }
 },
 "nbformat": 4,
 "nbformat_minor": 2
}
