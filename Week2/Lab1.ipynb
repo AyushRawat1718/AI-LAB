{
 "cells": [
  {
   "cell_type": "markdown",
   "metadata": {},
   "source": [
    "## Lab Assignment - 2.1\n",
    "### Ayush Rawat\n",
    "### E22CSEU0655"
   ]
  },
  {
   "cell_type": "code",
   "execution_count": 1,
   "metadata": {},
   "outputs": [],
   "source": [
    "import pandas as pd\n",
    "import numpy as np\n",
    "import matplotlib.pyplot as plt"
   ]
  },
  {
   "cell_type": "code",
   "execution_count": 2,
   "metadata": {},
   "outputs": [],
   "source": [
    "# Read the dataset into variable ‘df’. \n",
    "df = pd.read_csv('Datasets/student-por.csv')\n",
    "\n",
    "# Take the last two columns (G2 and G3) into XY respectively.\n",
    "xy = df[['G2','G3']]\n"
   ]
  },
  {
   "cell_type": "code",
   "execution_count": 3,
   "metadata": {},
   "outputs": [
    {
     "data": {
      "text/html": [
       "<div>\n",
       "<style scoped>\n",
       "    .dataframe tbody tr th:only-of-type {\n",
       "        vertical-align: middle;\n",
       "    }\n",
       "\n",
       "    .dataframe tbody tr th {\n",
       "        vertical-align: top;\n",
       "    }\n",
       "\n",
       "    .dataframe thead th {\n",
       "        text-align: right;\n",
       "    }\n",
       "</style>\n",
       "<table border=\"1\" class=\"dataframe\">\n",
       "  <thead>\n",
       "    <tr style=\"text-align: right;\">\n",
       "      <th></th>\n",
       "      <th>G2</th>\n",
       "      <th>G3</th>\n",
       "    </tr>\n",
       "  </thead>\n",
       "  <tbody>\n",
       "    <tr>\n",
       "      <th>count</th>\n",
       "      <td>649.000000</td>\n",
       "      <td>649.000000</td>\n",
       "    </tr>\n",
       "    <tr>\n",
       "      <th>mean</th>\n",
       "      <td>11.570108</td>\n",
       "      <td>11.906009</td>\n",
       "    </tr>\n",
       "    <tr>\n",
       "      <th>std</th>\n",
       "      <td>2.913639</td>\n",
       "      <td>3.230656</td>\n",
       "    </tr>\n",
       "    <tr>\n",
       "      <th>min</th>\n",
       "      <td>0.000000</td>\n",
       "      <td>0.000000</td>\n",
       "    </tr>\n",
       "    <tr>\n",
       "      <th>25%</th>\n",
       "      <td>10.000000</td>\n",
       "      <td>10.000000</td>\n",
       "    </tr>\n",
       "    <tr>\n",
       "      <th>50%</th>\n",
       "      <td>11.000000</td>\n",
       "      <td>12.000000</td>\n",
       "    </tr>\n",
       "    <tr>\n",
       "      <th>75%</th>\n",
       "      <td>13.000000</td>\n",
       "      <td>14.000000</td>\n",
       "    </tr>\n",
       "    <tr>\n",
       "      <th>max</th>\n",
       "      <td>19.000000</td>\n",
       "      <td>19.000000</td>\n",
       "    </tr>\n",
       "  </tbody>\n",
       "</table>\n",
       "</div>"
      ],
      "text/plain": [
       "               G2          G3\n",
       "count  649.000000  649.000000\n",
       "mean    11.570108   11.906009\n",
       "std      2.913639    3.230656\n",
       "min      0.000000    0.000000\n",
       "25%     10.000000   10.000000\n",
       "50%     11.000000   12.000000\n",
       "75%     13.000000   14.000000\n",
       "max     19.000000   19.000000"
      ]
     },
     "execution_count": 3,
     "metadata": {},
     "output_type": "execute_result"
    }
   ],
   "source": [
    "# Print the different statistical values of data contained in XY.\n",
    "xy.describe()"
   ]
  },
  {
   "cell_type": "code",
   "execution_count": 4,
   "metadata": {},
   "outputs": [],
   "source": [
    "# Divide XY into X consisting of G2 and Y consisting of G3.\n",
    "x = xy['G2']\n",
    "y = xy['G3']\n"
   ]
  },
  {
   "cell_type": "code",
   "execution_count": 5,
   "metadata": {},
   "outputs": [
    {
     "name": "stdout",
     "output_type": "stream",
     "text": [
      "Shape of X: (649,)\n",
      "Shape of Y: (649,)\n"
     ]
    }
   ],
   "source": [
    "#  Print the shape of both X and Y.\n",
    "print(\"Shape of X:\",x.shape)\n",
    "print(\"Shape of Y:\",y.shape)"
   ]
  },
  {
   "cell_type": "code",
   "execution_count": 6,
   "metadata": {},
   "outputs": [
    {
     "data": {
      "text/html": [
       "<div>\n",
       "<style scoped>\n",
       "    .dataframe tbody tr th:only-of-type {\n",
       "        vertical-align: middle;\n",
       "    }\n",
       "\n",
       "    .dataframe tbody tr th {\n",
       "        vertical-align: top;\n",
       "    }\n",
       "\n",
       "    .dataframe thead th {\n",
       "        text-align: right;\n",
       "    }\n",
       "</style>\n",
       "<table border=\"1\" class=\"dataframe\">\n",
       "  <thead>\n",
       "    <tr style=\"text-align: right;\">\n",
       "      <th></th>\n",
       "      <th>G2</th>\n",
       "      <th>G3</th>\n",
       "    </tr>\n",
       "  </thead>\n",
       "  <tbody>\n",
       "    <tr>\n",
       "      <th>0</th>\n",
       "      <td>11</td>\n",
       "      <td>11</td>\n",
       "    </tr>\n",
       "    <tr>\n",
       "      <th>1</th>\n",
       "      <td>11</td>\n",
       "      <td>11</td>\n",
       "    </tr>\n",
       "    <tr>\n",
       "      <th>2</th>\n",
       "      <td>13</td>\n",
       "      <td>12</td>\n",
       "    </tr>\n",
       "    <tr>\n",
       "      <th>3</th>\n",
       "      <td>14</td>\n",
       "      <td>14</td>\n",
       "    </tr>\n",
       "    <tr>\n",
       "      <th>4</th>\n",
       "      <td>13</td>\n",
       "      <td>13</td>\n",
       "    </tr>\n",
       "  </tbody>\n",
       "</table>\n",
       "</div>"
      ],
      "text/plain": [
       "   G2  G3\n",
       "0  11  11\n",
       "1  11  11\n",
       "2  13  12\n",
       "3  14  14\n",
       "4  13  13"
      ]
     },
     "execution_count": 6,
     "metadata": {},
     "output_type": "execute_result"
    }
   ],
   "source": [
    "# Print some of the rows from XY\n",
    "xy.head()"
   ]
  },
  {
   "cell_type": "code",
   "execution_count": 7,
   "metadata": {},
   "outputs": [
    {
     "name": "stdout",
     "output_type": "stream",
     "text": [
      "1.0184903428054768\n"
     ]
    }
   ],
   "source": [
    "# Find the value of linear regression coefficients i.e., m\n",
    "mean_x = np.mean(x)\n",
    "mean_y = np.mean(y)\n",
    "\n",
    "numerator = np.sum((x - mean_x) * (y - mean_y))\n",
    "denominator = np.sum((x - mean_x) ** 2)\n",
    "\n",
    "m = numerator / denominator\n",
    "\n",
    "print(m)"
   ]
  },
  {
   "cell_type": "code",
   "execution_count": 8,
   "metadata": {},
   "outputs": [
    {
     "name": "stdout",
     "output_type": "stream",
     "text": [
      "0.12196612615358227\n"
     ]
    }
   ],
   "source": [
    "# Find the value of intercept i.e., c\n",
    "c = mean_y - (m * mean_x)\n",
    "print(c)"
   ]
  },
  {
   "cell_type": "code",
   "execution_count": 9,
   "metadata": {},
   "outputs": [],
   "source": [
    "# Write code to predict the value dependent variable and stored it into Y_predicted.\n",
    "y_predicted = m * x + c"
   ]
  },
  {
   "cell_type": "code",
   "execution_count": 10,
   "metadata": {},
   "outputs": [
    {
     "name": "stdout",
     "output_type": "stream",
     "text": [
      "Mean Squared Error: 1.6284941833234947\n"
     ]
    }
   ],
   "source": [
    "# Write a function to calculate the mean squared error and between original and predicted Y\n",
    "def calculate_mse(y_true, y_pred):\n",
    "    mse = np.mean((y_true - y_pred) ** 2)\n",
    "    return mse\n",
    "\n",
    "mse = calculate_mse(y, y_predicted)\n",
    "print(\"Mean Squared Error:\", mse)"
   ]
  },
  {
   "cell_type": "code",
   "execution_count": 11,
   "metadata": {},
   "outputs": [
    {
     "name": "stdout",
     "output_type": "stream",
     "text": [
      "Root Mean Squared Error: 1.2761246738949508\n"
     ]
    }
   ],
   "source": [
    "# Write a function to calculate the root mean squared error and between original and predicted Y\n",
    "def calculate_rmse(y_true, y_pred):\n",
    "    rmse = np.sqrt(calculate_mse(y_true, y_pred))\n",
    "    return rmse\n",
    "\n",
    "rmse = calculate_rmse(y, y_predicted)\n",
    "print(\"Root Mean Squared Error:\", rmse)"
   ]
  },
  {
   "cell_type": "code",
   "execution_count": 12,
   "metadata": {},
   "outputs": [
    {
     "data": {
      "image/png": "[encoded data removed]",
      "text/plain": [
       "<Figure size 640x480 with 1 Axes>"
      ]
     },
     "metadata": {},
     "output_type": "display_data"
    }
   ],
   "source": [
    "# Create a range of x values for plotting\n",
    "x_plot = np.linspace(min(x), max(x), 100)\n",
    "\n",
    "# Predict y values for the range of x values\n",
    "y_plot = m * x_plot + c\n",
    "\n",
    "# Plot the original data points\n",
    "plt.scatter(x, y, label=\"Actual Data\")\n",
    "\n",
    "# Plot the regression line\n",
    "plt.plot(x_plot, y_plot, color='red', label=\"Regression Line\")\n",
    "\n",
    "# Set labels and title\n",
    "plt.xlabel(\"G2\")\n",
    "plt.ylabel(\"G3\")\n",
    "plt.title(\"Linear Regression: G2 vs G3\")\n",
    "\n",
    "# Show the plot\n",
    "plt.legend()\n",
    "plt.show()"
   ]
  },
  {
   "cell_type": "code",
   "execution_count": 13,
   "metadata": {},
   "outputs": [
    {
     "name": "stdout",
     "output_type": "stream",
     "text": [
      "Predicted G3 values: [61.23138669 76.50874184 81.60119355]\n"
     ]
    }
   ],
   "source": [
    "# Write code to predict G3 for some random values other than present in G2.\n",
    "\n",
    "# New values of G2\n",
    "new_g2 = np.array([60, 75, 80])\n",
    "\n",
    "# Predict G3 for new values\n",
    "predicted_g3 = m * new_g2 + c\n",
    "\n",
    "print(\"Predicted G3 values:\", predicted_g3)"
   ]
  }
 ],
 "metadata": {
  "kernelspec": {
   "display_name": "Python 3",
   "language": "python",
   "name": "python3"
  },
  "language_info": {
   "codemirror_mode": {
    "name": "ipython",
    "version": 3
   },
   "file_extension": ".py",
   "mimetype": "text/x-python",
   "name": "python",
   "nbconvert_exporter": "python",
   "pygments_lexer": "ipython3",
   "version": "3.12.0"
  }
 },
 "nbformat": 4,
 "nbformat_minor": 2
}
