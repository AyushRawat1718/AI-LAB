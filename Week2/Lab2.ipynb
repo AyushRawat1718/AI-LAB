{
 "cells": [
  {
   "cell_type": "markdown",
   "metadata": {},
   "source": [
    "## Lab Assignment - 2.2\n",
    "### Ayush Rawat\n",
    "### E22CSEU0655"
   ]
  },
  {
   "cell_type": "code",
   "execution_count": 1,
   "metadata": {},
   "outputs": [],
   "source": [
    "import pandas as pd\n",
    "import numpy as np\n",
    "import matplotlib.pyplot as plt"
   ]
  },
  {
   "cell_type": "code",
   "execution_count": 2,
   "metadata": {},
   "outputs": [
    {
     "data": {
      "text/html": [
       "<div>\n",
       "<style scoped>\n",
       "    .dataframe tbody tr th:only-of-type {\n",
       "        vertical-align: middle;\n",
       "    }\n",
       "\n",
       "    .dataframe tbody tr th {\n",
       "        vertical-align: top;\n",
       "    }\n",
       "\n",
       "    .dataframe thead th {\n",
       "        text-align: right;\n",
       "    }\n",
       "</style>\n",
       "<table border=\"1\" class=\"dataframe\">\n",
       "  <thead>\n",
       "    <tr style=\"text-align: right;\">\n",
       "      <th></th>\n",
       "      <th>Head Size(cm^3)</th>\n",
       "      <th>Brain Weight(grams)</th>\n",
       "    </tr>\n",
       "  </thead>\n",
       "  <tbody>\n",
       "    <tr>\n",
       "      <th>0</th>\n",
       "      <td>4512</td>\n",
       "      <td>1530</td>\n",
       "    </tr>\n",
       "    <tr>\n",
       "      <th>1</th>\n",
       "      <td>3738</td>\n",
       "      <td>1297</td>\n",
       "    </tr>\n",
       "    <tr>\n",
       "      <th>2</th>\n",
       "      <td>4261</td>\n",
       "      <td>1335</td>\n",
       "    </tr>\n",
       "    <tr>\n",
       "      <th>3</th>\n",
       "      <td>3777</td>\n",
       "      <td>1282</td>\n",
       "    </tr>\n",
       "    <tr>\n",
       "      <th>4</th>\n",
       "      <td>4177</td>\n",
       "      <td>1590</td>\n",
       "    </tr>\n",
       "    <tr>\n",
       "      <th>...</th>\n",
       "      <td>...</td>\n",
       "      <td>...</td>\n",
       "    </tr>\n",
       "    <tr>\n",
       "      <th>232</th>\n",
       "      <td>3214</td>\n",
       "      <td>1110</td>\n",
       "    </tr>\n",
       "    <tr>\n",
       "      <th>233</th>\n",
       "      <td>3394</td>\n",
       "      <td>1215</td>\n",
       "    </tr>\n",
       "    <tr>\n",
       "      <th>234</th>\n",
       "      <td>3233</td>\n",
       "      <td>1104</td>\n",
       "    </tr>\n",
       "    <tr>\n",
       "      <th>235</th>\n",
       "      <td>3352</td>\n",
       "      <td>1170</td>\n",
       "    </tr>\n",
       "    <tr>\n",
       "      <th>236</th>\n",
       "      <td>3391</td>\n",
       "      <td>1120</td>\n",
       "    </tr>\n",
       "  </tbody>\n",
       "</table>\n",
       "<p>237 rows × 2 columns</p>\n",
       "</div>"
      ],
      "text/plain": [
       "     Head Size(cm^3)  Brain Weight(grams)\n",
       "0               4512                 1530\n",
       "1               3738                 1297\n",
       "2               4261                 1335\n",
       "3               3777                 1282\n",
       "4               4177                 1590\n",
       "..               ...                  ...\n",
       "232             3214                 1110\n",
       "233             3394                 1215\n",
       "234             3233                 1104\n",
       "235             3352                 1170\n",
       "236             3391                 1120\n",
       "\n",
       "[237 rows x 2 columns]"
      ]
     },
     "execution_count": 2,
     "metadata": {},
     "output_type": "execute_result"
    }
   ],
   "source": [
    "#  Read the dataset (use read_csv() from pandas ) into some variable. \n",
    "df = pd.read_csv(\"Datasets/headbrain.csv\")\n",
    "df\n",
    "\n",
    "# Take the last two columns (Head Size(cm3) and Brain Weight(grams)) into XY\n",
    "xy = df[['Head Size(cm^3)', 'Brain Weight(grams)']]\n",
    "xy"
   ]
  },
  {
   "cell_type": "code",
   "execution_count": 3,
   "metadata": {},
   "outputs": [
    {
     "data": {
      "text/html": [
       "<div>\n",
       "<style scoped>\n",
       "    .dataframe tbody tr th:only-of-type {\n",
       "        vertical-align: middle;\n",
       "    }\n",
       "\n",
       "    .dataframe tbody tr th {\n",
       "        vertical-align: top;\n",
       "    }\n",
       "\n",
       "    .dataframe thead th {\n",
       "        text-align: right;\n",
       "    }\n",
       "</style>\n",
       "<table border=\"1\" class=\"dataframe\">\n",
       "  <thead>\n",
       "    <tr style=\"text-align: right;\">\n",
       "      <th></th>\n",
       "      <th>Head Size(cm^3)</th>\n",
       "      <th>Brain Weight(grams)</th>\n",
       "    </tr>\n",
       "  </thead>\n",
       "  <tbody>\n",
       "    <tr>\n",
       "      <th>count</th>\n",
       "      <td>237.000000</td>\n",
       "      <td>237.000000</td>\n",
       "    </tr>\n",
       "    <tr>\n",
       "      <th>mean</th>\n",
       "      <td>3633.991561</td>\n",
       "      <td>1282.873418</td>\n",
       "    </tr>\n",
       "    <tr>\n",
       "      <th>std</th>\n",
       "      <td>365.261422</td>\n",
       "      <td>120.340446</td>\n",
       "    </tr>\n",
       "    <tr>\n",
       "      <th>min</th>\n",
       "      <td>2720.000000</td>\n",
       "      <td>955.000000</td>\n",
       "    </tr>\n",
       "    <tr>\n",
       "      <th>25%</th>\n",
       "      <td>3389.000000</td>\n",
       "      <td>1207.000000</td>\n",
       "    </tr>\n",
       "    <tr>\n",
       "      <th>50%</th>\n",
       "      <td>3614.000000</td>\n",
       "      <td>1280.000000</td>\n",
       "    </tr>\n",
       "    <tr>\n",
       "      <th>75%</th>\n",
       "      <td>3876.000000</td>\n",
       "      <td>1350.000000</td>\n",
       "    </tr>\n",
       "    <tr>\n",
       "      <th>max</th>\n",
       "      <td>4747.000000</td>\n",
       "      <td>1635.000000</td>\n",
       "    </tr>\n",
       "  </tbody>\n",
       "</table>\n",
       "</div>"
      ],
      "text/plain": [
       "       Head Size(cm^3)  Brain Weight(grams)\n",
       "count       237.000000           237.000000\n",
       "mean       3633.991561          1282.873418\n",
       "std         365.261422           120.340446\n",
       "min        2720.000000           955.000000\n",
       "25%        3389.000000          1207.000000\n",
       "50%        3614.000000          1280.000000\n",
       "75%        3876.000000          1350.000000\n",
       "max        4747.000000          1635.000000"
      ]
     },
     "execution_count": 3,
     "metadata": {},
     "output_type": "execute_result"
    }
   ],
   "source": [
    "#  Print the different statistical values of data contained in XY using describe () function from pandas\n",
    "xy.describe()"
   ]
  },
  {
   "cell_type": "code",
   "execution_count": 4,
   "metadata": {},
   "outputs": [
    {
     "name": "stdout",
     "output_type": "stream",
     "text": [
      "Shape of X: (237,)\n",
      "Shape of Y: (237,)\n"
     ]
    }
   ],
   "source": [
    "# Divide XY into X consisting of Head Size (cm3) and Y consisting of Brain Weight(grams). \n",
    "x = xy['Head Size(cm^3)']\n",
    "y = xy['Brain Weight(grams)']\n",
    "\n",
    "# Print the shape of both.\n",
    "print(\"Shape of X:\",x.shape)\n",
    "print(\"Shape of Y:\",y.shape)"
   ]
  },
  {
   "cell_type": "code",
   "execution_count": 5,
   "metadata": {},
   "outputs": [
    {
     "name": "stdout",
     "output_type": "stream",
     "text": [
      "Mean of X: 3633.9915611814345\n",
      "Mean of Y: 1282.873417721519\n"
     ]
    }
   ],
   "source": [
    "# Calculate the mean of X and Y.\n",
    "mean_x = np.mean(x)\n",
    "mean_y = np.mean(y)\n",
    "print(\"Mean of X:\", mean_x)\n",
    "print(\"Mean of Y:\", mean_y)"
   ]
  },
  {
   "cell_type": "code",
   "execution_count": 6,
   "metadata": {},
   "outputs": [],
   "source": [
    "# Create a function to calculate coefficients\n",
    "def calculate_coefficients(x, y):\n",
    "    numerator = np.sum((x - mean_x) * (y - mean_y))\n",
    "    denominator = np.sum((x - mean_x) ** 2)\n",
    "    m = numerator / denominator\n",
    "    c = mean_y - (m * mean_x)\n",
    "    return m, c"
   ]
  },
  {
   "cell_type": "code",
   "execution_count": 7,
   "metadata": {},
   "outputs": [
    {
     "name": "stdout",
     "output_type": "stream",
     "text": [
      "Slope (m): 0.2634293394893993\n",
      "Intercept (c): 325.5734210494428\n"
     ]
    }
   ],
   "source": [
    "# Calculate m and c\n",
    "m, c = calculate_coefficients(x, y)\n",
    "print(\"Slope (m):\", m)\n",
    "print(\"Intercept (c):\", c)"
   ]
  },
  {
   "cell_type": "code",
   "execution_count": 8,
   "metadata": {},
   "outputs": [
    {
     "data": {
      "text/plain": [
       "0      1514.166601\n",
       "1      1310.272292\n",
       "2      1448.045837\n",
       "3      1320.546036\n",
       "4      1425.917772\n",
       "          ...     \n",
       "232    1172.235318\n",
       "233    1219.652599\n",
       "234    1177.240476\n",
       "235    1208.588567\n",
       "236    1218.862311\n",
       "Name: Head Size(cm^3), Length: 237, dtype: float64"
      ]
     },
     "execution_count": 8,
     "metadata": {},
     "output_type": "execute_result"
    }
   ],
   "source": [
    "# Write code to find the Regression line Y= c + m*X\n",
    "y_predicted = m*x + c\n",
    "y_predicted"
   ]
  },
  {
   "cell_type": "code",
   "execution_count": 9,
   "metadata": {},
   "outputs": [
    {
     "data": {
      "image/png": "[encoded data removed]",
      "text/plain": [
       "<Figure size 640x480 with 1 Axes>"
      ]
     },
     "metadata": {},
     "output_type": "display_data"
    }
   ],
   "source": [
    "#  Display the regression line with Scatter plot (Head Size(cm3) in X-axis and Brain Weight (grams) in Y-axis).\n",
    "plt.scatter(x, y, label=\"Actual Data\")\n",
    "plt.plot(x, y_predicted, color='red', label=\"Regression Line\")\n",
    "plt.xlabel(\"Head Size(cm^3)\")\n",
    "plt.ylabel(\"Brain Weight(grams)\")\n",
    "plt.title(\"Linear Regression: Head Size vs. Brain Weight\")\n",
    "plt.legend()\n",
    "plt.show()"
   ]
  },
  {
   "cell_type": "code",
   "execution_count": 10,
   "metadata": {},
   "outputs": [
    {
     "name": "stdout",
     "output_type": "stream",
     "text": [
      "Root Mean Squared Error (RMSE): 72.1206213783709\n"
     ]
    }
   ],
   "source": [
    "# Write code to calculate the Root Mean Square Error (RMSE).\n",
    "def calculate_rmse(y_true, y_pred):\n",
    "    squared_errors = (y_true - y_pred) ** 2\n",
    "    mse = np.mean(squared_errors)\n",
    "    rmse = np.sqrt(mse)\n",
    "    return rmse\n",
    "\n",
    "rmse = calculate_rmse(y, y_predicted)\n",
    "print(\"Root Mean Squared Error (RMSE):\", rmse)"
   ]
  },
  {
   "cell_type": "code",
   "execution_count": 11,
   "metadata": {},
   "outputs": [
    {
     "name": "stdout",
     "output_type": "stream",
     "text": [
      "R-squared score: 0.639311719957\n"
     ]
    }
   ],
   "source": [
    "# Calculate the amount of the variation in the output dependent attribute which is predictable from the input independent variable using R2 score.\n",
    "def calculate_r2(y_true, y_pred):\n",
    "    total_variance = np.var(y_true)\n",
    "    explained_variance = np.var(y_true - y_pred)\n",
    "    r2 = 1 - (explained_variance / total_variance)\n",
    "    return r2\n",
    "\n",
    "r2_score = calculate_r2(y, y_predicted)\n",
    "print(\"R-squared score:\", r2_score)"
   ]
  }
 ],
 "metadata": {
  "kernelspec": {
   "display_name": "Python 3",
   "language": "python",
   "name": "python3"
  },
  "language_info": {
   "codemirror_mode": {
    "name": "ipython",
    "version": 3
   },
   "file_extension": ".py",
   "mimetype": "text/x-python",
   "name": "python",
   "nbconvert_exporter": "python",
   "pygments_lexer": "ipython3",
   "version": "3.12.0"
  }
 },
 "nbformat": 4,
 "nbformat_minor": 2
}
